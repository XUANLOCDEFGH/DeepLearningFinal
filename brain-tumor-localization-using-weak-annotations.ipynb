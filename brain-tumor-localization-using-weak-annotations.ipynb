{
 "cells": [
  {
   "cell_type": "markdown",
   "id": "32074382",
   "metadata": {
    "papermill": {
     "duration": 0.003377,
     "end_time": "2023-10-11T23:16:04.819277",
     "exception": false,
     "start_time": "2023-10-11T23:16:04.815900",
     "status": "completed"
    },
    "tags": []
   },
   "source": [
    "# Imports"
   ]
  },
  {
   "cell_type": "markdown",
   "id": "f395525f",
   "metadata": {
    "papermill": {
     "duration": 0.003225,
     "end_time": "2023-10-11T23:16:19.388447",
     "exception": false,
     "start_time": "2023-10-11T23:16:19.385222",
     "status": "completed"
    },
    "tags": []
   },
   "source": [
    "# Global settings"
   ]
  },
  {
   "cell_type": "markdown",
   "id": "f4d0e712",
   "metadata": {
    "papermill": {
     "duration": 0.002902,
     "end_time": "2023-10-11T23:16:19.480756",
     "exception": false,
     "start_time": "2023-10-11T23:16:19.477854",
     "status": "completed"
    },
    "tags": []
   },
   "source": [
    "# Data split load"
   ]
  },
  {
   "cell_type": "markdown",
   "id": "cd0d0411",
   "metadata": {
    "papermill": {
     "duration": 0.02855,
     "end_time": "2023-10-11T23:18:05.044674",
     "exception": false,
     "start_time": "2023-10-11T23:18:05.016124",
     "status": "completed"
    },
    "tags": []
   },
   "source": [
    "# Localization"
   ]
  },
  {
   "cell_type": "code",
   "execution_count": 9,
   "id": "d9ec9c90",
   "metadata": {},
   "outputs": [],
   "source": [
    "import pytorch_lightning as pl\n",
    "# your favorite machine learning tracking tool\n",
    "from pytorch_lightning.loggers import WandbLogger\n"
   ]
  },
  {
   "cell_type": "code",
   "execution_count": 8,
   "id": "8b9c16c8",
   "metadata": {},
   "outputs": [],
   "source": [
    "import numpy as np\n",
    "import random\n",
    "from torchvision.datasets import ImageFolder\n",
    "from torchvision import transforms\n",
    "import torch\n",
    "from torch.utils.data import DataLoader\n",
    "from torchmetrics.classification import AUROC,AveragePrecision\n",
    "import torchmetrics\n",
    "from sklearn.metrics import roc_curve, auc\n",
    "import os\n",
    "from sklearn.model_selection import train_test_split\n",
    "import shutil\n",
    "from copy import deepcopy\n",
    "from tqdm import tqdm\n",
    "from matplotlib import pyplot as plt"
   ]
  },
  {
   "cell_type": "code",
   "execution_count": 10,
   "id": "83baf235",
   "metadata": {},
   "outputs": [],
   "source": [
    "class BrainDataModule(pl.LightningDataModule):\n",
    "    def __init__(self, batch_size, data_dir: str = './'):\n",
    "        super().__init__()\n",
    "        self.data_dir = data_dir\n",
    "        self.batch_size = batch_size\n",
    "\n",
    "        self.transform_train = transforms.Compose([\n",
    "                                        transforms.Resize((256,256)),\n",
    "                                       transforms.RandomHorizontalFlip(),\n",
    "                                      transforms.RandomVerticalFlip(),\n",
    "                                      transforms.RandomAffine(5,translate=[0,.1],scale=[.9,1.1]),\n",
    "                                      transforms.ToTensor(),\n",
    "                                      transforms.Normalize( mean=[0.485, 0.456, 0.406] ,std=[0.229, 0.224, 0.225])\n",
    "                                      \n",
    "                                     ])\n",
    "        self.transform = transforms.Compose([\n",
    "            transforms.Resize((256,256)),\n",
    "\n",
    "            transforms.ToTensor(),\n",
    "            transforms.Normalize(mean=[0.485, 0.456, 0.406] ,std=[0.229, 0.224, 0.225])\n",
    "        ])\n",
    "        \n",
    "        self.num_classes = 4\n",
    "    \n",
    "    def setup(self, stage=None):\n",
    "        # Assign train/val datasets for use in dataloaders\n",
    "        if stage == 'fit' or stage is None:\n",
    "                self.train = ImageFolder(self.data_dir+\"/train\",\n",
    "                                    transform=self.transform_train,\n",
    "                                )\n",
    "\n",
    "                self.val = ImageFolder(self.data_dir+\"/val\",\n",
    "                                    transform=self.transform,\n",
    "                                )\n",
    "\n",
    "                \n",
    "\n",
    "\n",
    "        # Assign test dataset for use in dataloader(s)\n",
    "        if stage == 'test' or stage is None:\n",
    "            self.test = ImageFolder(self.data_dir+\"/test\",\n",
    "                                    transform=self.transform,)\n",
    "    def train_dataloader(self):\n",
    "        return DataLoader(self.train, batch_size=self.batch_size, shuffle=True)\n",
    "\n",
    "\n",
    "    def val_dataloader(self):\n",
    "        return DataLoader(self.val, batch_size=self.batch_size)\n",
    "\n",
    "\n",
    "    def test_dataloader(self):\n",
    "        return DataLoader(self.test, batch_size=self.batch_size)\n",
    "\n"
   ]
  },
  {
   "cell_type": "code",
   "execution_count": 11,
   "id": "74dee951",
   "metadata": {},
   "outputs": [],
   "source": [
    "transform = transforms.Compose([\n",
    "            transforms.Resize((224,224)),\n",
    "\n",
    "            transforms.ToTensor(),\n",
    "            # transforms.Normalize((0.5, 0.5, 0.5), (0.5, 0.5, 0.5))\n",
    "        ])"
   ]
  },
  {
   "cell_type": "code",
   "execution_count": 12,
   "id": "523e0804",
   "metadata": {},
   "outputs": [],
   "source": [
    "from pytorch_lightning.callbacks import  Callback\n",
    "from torch import  nn\n",
    "from torch.nn import  functional as F"
   ]
  },
  {
   "cell_type": "code",
   "execution_count": 13,
   "id": "5493196e",
   "metadata": {},
   "outputs": [],
   "source": [
    "from torchvision.models import resnet34"
   ]
  },
  {
   "cell_type": "code",
   "execution_count": 14,
   "id": "b29b3b53",
   "metadata": {},
   "outputs": [],
   "source": [
    "class LitModel(pl.LightningModule):\n",
    "    def __init__(self, input_shape, num_classes, learning_rate=2e-4):\n",
    "        super().__init__()\n",
    "        \n",
    "        # log hyperparameters\n",
    "        self.save_hyperparameters()\n",
    "        self.learning_rate = learning_rate\n",
    "        self.model_pretrain=resnet34(weights='IMAGENET1K_V1')\n",
    "        self.model_pretrain.fc=nn.Linear(512,num_classes)\n",
    "        self.accuracy=torchmetrics.Accuracy(task=\"multiclass\", num_classes=4)\n",
    "    # returns the feature tensor from the conv block\n",
    "  \n",
    "    \n",
    "    # will be used during inference\n",
    "    def forward(self, x):\n",
    "       x=self.model_pretrain(x)\n",
    "       return F.softmax( x,dim=1)\n",
    "    def training_step(self, batch, batch_idx):\n",
    "        x, y = batch\n",
    "        logits = self(x)\n",
    "        loss = F.cross_entropy(logits, y)\n",
    "        \n",
    "        # training metrics\n",
    "        preds = logits\n",
    "        acc = self.accuracy(preds, y)\n",
    "        self.log('train_loss', loss, on_step=True, on_epoch=True, logger=True)\n",
    "        self.log('train_acc', acc, on_step=True, on_epoch=True, logger=True)\n",
    "        \n",
    "        return loss\n",
    "    def validation_step(self, batch, batch_idx):\n",
    "        x, y = batch\n",
    "        logits = self(x)\n",
    "        loss = F.cross_entropy(logits, y)\n",
    "\n",
    "\n",
    "        # validation metrics\n",
    "        preds = logits\n",
    "        acc = self.accuracy(preds, y)\n",
    "        self.log('val_loss', loss, prog_bar=True)\n",
    "        self.log('val_acc', acc, prog_bar=True)\n",
    "        return loss\n",
    "    def test_step(self, batch, batch_idx):\n",
    "        x, y = batch\n",
    "        logits = self(x)\n",
    "        loss = F.cross_entropy(logits, y)\n",
    "        \n",
    "        # validation metrics\n",
    "        preds = logits\n",
    "        acc = self.accuracy(preds, y)\n",
    "        self.log('test_loss', loss, prog_bar=True)\n",
    "        self.log('test_acc', acc, prog_bar=True)\n",
    "        return loss\n",
    "    def configure_optimizers(self):\n",
    "        optimizer = torch.optim.Adam(self.parameters(), lr=self.learning_rate)\n",
    "        return optimizer\n"
   ]
  },
  {
   "cell_type": "code",
   "execution_count": 12,
   "id": "bf5c6e47",
   "metadata": {},
   "outputs": [],
   "source": [
    "dm = BrainDataModule(batch_size=4,data_dir=\"Dataset\")"
   ]
  },
  {
   "cell_type": "code",
   "execution_count": 13,
   "id": "5acf0bef",
   "metadata": {},
   "outputs": [],
   "source": [
    "dm.setup()\n",
    "batch=dm.val_dataloader()"
   ]
  },
  {
   "cell_type": "code",
   "execution_count": 14,
   "id": "31c54394",
   "metadata": {},
   "outputs": [
    {
     "data": {
      "text/plain": [
       "(torch.Size([4, 3, 256, 256]), torch.Size([4]))"
      ]
     },
     "execution_count": 14,
     "metadata": {},
     "output_type": "execute_result"
    }
   ],
   "source": [
    "val_samples = next(iter(batch))\n",
    "val_imgs, val_labels = val_samples[0], val_samples[1]\n",
    "val_imgs.shape, val_labels.shape\n"
   ]
  },
  {
   "cell_type": "code",
   "execution_count": 15,
   "id": "2ad3387e",
   "metadata": {},
   "outputs": [
    {
     "data": {
      "text/plain": [
       "(torch.Size([4, 3, 256, 256]), torch.Size([4]))"
      ]
     },
     "execution_count": 15,
     "metadata": {},
     "output_type": "execute_result"
    }
   ],
   "source": [
    "test_samples = next(iter(dm.test_dataloader()))\n",
    "test_imgs, test_labels = test_samples[0], test_samples[1]\n",
    "test_imgs.shape, test_labels.shape\n"
   ]
  },
  {
   "cell_type": "code",
   "execution_count": 12,
   "id": "1edf222b",
   "metadata": {},
   "outputs": [],
   "source": [
    "class ImagePredictionLogger(Callback):\n",
    "    def __init__(self, val_samples, num_samples=32):\n",
    "        super().__init__()\n",
    "        self.num_samples = num_samples\n",
    "        self.val_imgs, self.val_labels = val_samples\n",
    "        self.test_imgs, self.test_labels=test_samples\n",
    "    def on_validation_epoch_end(self, trainer, pl_module):\n",
    "        # Bring the tensors to CPU\n",
    "        val_imgs = self.val_imgs.to(device=pl_module.device)\n",
    "        val_labels = self.val_labels.to(device=pl_module.device)\n",
    "        # Get model prediction\n",
    "        logits = pl_module(val_imgs)\n",
    "        preds = torch.argmax(logits, -1)\n",
    "        # Log the images as wandb Image\n",
    "        trainer.logger.experiment.log({\n",
    "            \"examples\":[wandb.Image(x, caption=f\"Pred:{pred}, Label:{y}\") \n",
    "                           for x, pred, y in zip(val_imgs[:self.num_samples], \n",
    "                                                 preds[:self.num_samples], \n",
    "                                                 val_labels[:self.num_samples])]\n",
    "            })\n",
    "    def on_test_epoch_end(self, trainer, pl_module):\n",
    "        # Bring the tensors to CPU\n",
    "        val_imgs = self.test_imgs.to(device=pl_module.device)\n",
    "        val_labels = self.test_labels.to(device=pl_module.device)\n",
    "        # Get model prediction\n",
    "        logits = pl_module(val_imgs)\n",
    "        preds = torch.argmax(logits, -1)\n",
    "        # Log the images as wandb Image\n",
    "        trainer.logger.experiment.log({\n",
    "            \"Test_examples\":[wandb.Image(x, caption=f\"Pred:{pred}, Label:{y}\") \n",
    "                           for x, pred, y in zip(val_imgs[:self.num_samples], \n",
    "                                                 preds[:self.num_samples], \n",
    "                                                 val_labels[:self.num_samples])]\n",
    "            })\n"
   ]
  },
  {
   "cell_type": "code",
   "execution_count": 1,
   "id": "e6b75315",
   "metadata": {},
   "outputs": [
    {
     "name": "stderr",
     "output_type": "stream",
     "text": [
      "Failed to detect the name of this notebook, you can set it manually with the WANDB_NOTEBOOK_NAME environment variable to enable code saving.\n",
      "\u001b[34m\u001b[1mwandb\u001b[0m: Currently logged in as: \u001b[33mnguyenxuanloc-official\u001b[0m. Use \u001b[1m`wandb login --relogin`\u001b[0m to force relogin\n"
     ]
    },
    {
     "data": {
      "text/html": [
       "Tracking run with wandb version 0.16.6"
      ],
      "text/plain": [
       "<IPython.core.display.HTML object>"
      ]
     },
     "metadata": {},
     "output_type": "display_data"
    },
    {
     "data": {
      "text/html": [
       "Run data is saved locally in <code>g:\\DeepLearning\\Model\\wandb\\run-20240501_225414-1irgnfsx</code>"
      ],
      "text/plain": [
       "<IPython.core.display.HTML object>"
      ]
     },
     "metadata": {},
     "output_type": "display_data"
    },
    {
     "data": {
      "text/html": [
       "Syncing run <strong><a href='https://wandb.ai/nguyenxuanloc-official/brain/runs/1irgnfsx' target=\"_blank\">fresh-glade-24</a></strong> to <a href='https://wandb.ai/nguyenxuanloc-official/brain' target=\"_blank\">Weights & Biases</a> (<a href='https://wandb.me/run' target=\"_blank\">docs</a>)<br/>"
      ],
      "text/plain": [
       "<IPython.core.display.HTML object>"
      ]
     },
     "metadata": {},
     "output_type": "display_data"
    },
    {
     "data": {
      "text/html": [
       " View project at <a href='https://wandb.ai/nguyenxuanloc-official/brain' target=\"_blank\">https://wandb.ai/nguyenxuanloc-official/brain</a>"
      ],
      "text/plain": [
       "<IPython.core.display.HTML object>"
      ]
     },
     "metadata": {},
     "output_type": "display_data"
    },
    {
     "data": {
      "text/html": [
       " View run at <a href='https://wandb.ai/nguyenxuanloc-official/brain/runs/1irgnfsx' target=\"_blank\">https://wandb.ai/nguyenxuanloc-official/brain/runs/1irgnfsx</a>"
      ],
      "text/plain": [
       "<IPython.core.display.HTML object>"
      ]
     },
     "metadata": {},
     "output_type": "display_data"
    },
    {
     "data": {
      "text/html": [
       "<button onClick=\"this.nextSibling.style.display='block';this.style.display='none';\">Display W&B run</button><iframe src='https://wandb.ai/nguyenxuanloc-official/brain/runs/1irgnfsx?jupyter=true' style='border:none;width:100%;height:420px;display:none;'></iframe>"
      ],
      "text/plain": [
       "<wandb.sdk.wandb_run.Run at 0x148b584aa70>"
      ]
     },
     "execution_count": 1,
     "metadata": {},
     "output_type": "execute_result"
    }
   ],
   "source": [
    "# import wandb\n",
    "# wandb.init(project=\"brain\")\n"
   ]
  },
  {
   "cell_type": "code",
   "execution_count": 15,
   "id": "447145e9",
   "metadata": {},
   "outputs": [],
   "source": [
    "from pytorch_lightning.callbacks import EarlyStopping,ModelCheckpoint\n"
   ]
  },
  {
   "cell_type": "code",
   "execution_count": 14,
   "id": "1ceb0693",
   "metadata": {},
   "outputs": [],
   "source": [
    "early_stop_callback=EarlyStopping(monitor=\"val_loss\",min_delta=3e-4,verbose=2)\n",
    "checkpoint_callback=ModelCheckpoint(\n",
    "     monitor='val_loss',dirpath=\"model\",save_last=True\n",
    "\n",
    ")\n"
   ]
  },
  {
   "cell_type": "code",
   "execution_count": 18,
   "id": "83d333f6",
   "metadata": {},
   "outputs": [
    {
     "name": "stderr",
     "output_type": "stream",
     "text": [
      "GPU available: True (cuda), used: True\n",
      "TPU available: False, using: 0 TPU cores\n",
      "IPU available: False, using: 0 IPUs\n",
      "HPU available: False, using: 0 HPUs\n",
      "c:\\Users\\nguye\\AppData\\Local\\Programs\\Python\\Python39\\lib\\site-packages\\pytorch_lightning\\callbacks\\model_checkpoint.py:612: UserWarning: Checkpoint directory G:\\DeepLearning\\Model\\model exists and is not empty.\n",
      "  rank_zero_warn(f\"Checkpoint directory {dirpath} exists and is not empty.\")\n",
      "LOCAL_RANK: 0 - CUDA_VISIBLE_DEVICES: [0]\n",
      "\n",
      "  | Name           | Type               | Params\n",
      "------------------------------------------------------\n",
      "0 | model_pretrain | ResNet             | 21.3 M\n",
      "1 | accuracy       | MulticlassAccuracy | 0     \n",
      "------------------------------------------------------\n",
      "21.3 M    Trainable params\n",
      "0         Non-trainable params\n",
      "21.3 M    Total params\n",
      "85.147    Total estimated model params size (MB)\n"
     ]
    },
    {
     "name": "stdout",
     "output_type": "stream",
     "text": [
      "Sanity Checking DataLoader 0:  50%|█████     | 1/2 [00:00<00:00, 26.10it/s]"
     ]
    },
    {
     "name": "stderr",
     "output_type": "stream",
     "text": [
      "c:\\Users\\nguye\\AppData\\Local\\Programs\\Python\\Python39\\lib\\site-packages\\pytorch_lightning\\trainer\\connectors\\data_connector.py:430: PossibleUserWarning: The dataloader, val_dataloader, does not have many workers which may be a bottleneck. Consider increasing the value of the `num_workers` argument` (try 8 which is the number of cpus on this machine) in the `DataLoader` init to improve performance.\n",
      "  rank_zero_warn(\n"
     ]
    },
    {
     "name": "stdout",
     "output_type": "stream",
     "text": [
      "                                                                           "
     ]
    },
    {
     "name": "stderr",
     "output_type": "stream",
     "text": [
      "c:\\Users\\nguye\\AppData\\Local\\Programs\\Python\\Python39\\lib\\site-packages\\pytorch_lightning\\trainer\\connectors\\data_connector.py:430: PossibleUserWarning: The dataloader, train_dataloader, does not have many workers which may be a bottleneck. Consider increasing the value of the `num_workers` argument` (try 8 which is the number of cpus on this machine) in the `DataLoader` init to improve performance.\n",
      "  rank_zero_warn(\n"
     ]
    },
    {
     "name": "stdout",
     "output_type": "stream",
     "text": [
      "Epoch 0: 100%|██████████| 542/542 [01:19<00:00,  6.85it/s, v_num=3, val_loss=1.010, val_acc=0.722]"
     ]
    },
    {
     "name": "stderr",
     "output_type": "stream",
     "text": [
      "Monitored metric val_loss did not improve in the last 5 records. Best score: 0.909. Signaling Trainer to stop.\n"
     ]
    },
    {
     "name": "stdout",
     "output_type": "stream",
     "text": [
      "Epoch 0: 100%|██████████| 542/542 [01:19<00:00,  6.85it/s, v_num=3, val_loss=1.010, val_acc=0.722]\n"
     ]
    },
    {
     "name": "stderr",
     "output_type": "stream",
     "text": [
      "c:\\Users\\nguye\\AppData\\Local\\Programs\\Python\\Python39\\lib\\site-packages\\pytorch_lightning\\trainer\\connectors\\checkpoint_connector.py:148: UserWarning: `.test(ckpt_path=None)` was called without a model. The best model of the previous `fit` call will be used. You can pass `.test(ckpt_path='best')` to use the best model or `.test(ckpt_path='last')` to use the last model. If you pass a value, this warning will be silenced.\n",
      "  rank_zero_warn(\n",
      "Restoring states from the checkpoint path at G:\\DeepLearning\\Model\\model\\epoch=2-step=1626.ckpt\n",
      "LOCAL_RANK: 0 - CUDA_VISIBLE_DEVICES: [0]\n",
      "Loaded model weights from the checkpoint at G:\\DeepLearning\\Model\\model\\epoch=2-step=1626.ckpt\n",
      "c:\\Users\\nguye\\AppData\\Local\\Programs\\Python\\Python39\\lib\\site-packages\\pytorch_lightning\\trainer\\connectors\\data_connector.py:430: PossibleUserWarning: The dataloader, test_dataloader, does not have many workers which may be a bottleneck. Consider increasing the value of the `num_workers` argument` (try 8 which is the number of cpus on this machine) in the `DataLoader` init to improve performance.\n",
      "  rank_zero_warn(\n"
     ]
    },
    {
     "name": "stdout",
     "output_type": "stream",
     "text": [
      "Testing DataLoader 0: 100%|██████████| 156/156 [00:07<00:00, 19.66it/s]\n"
     ]
    },
    {
     "data": {
      "text/html": [
       "<pre style=\"white-space:pre;overflow-x:auto;line-height:normal;font-family:Menlo,'DejaVu Sans Mono',consolas,'Courier New',monospace\">┏━━━━━━━━━━━━━━━━━━━━━━━━━━━┳━━━━━━━━━━━━━━━━━━━━━━━━━━━┓\n",
       "┃<span style=\"font-weight: bold\">        Test metric        </span>┃<span style=\"font-weight: bold\">       DataLoader 0        </span>┃\n",
       "┡━━━━━━━━━━━━━━━━━━━━━━━━━━━╇━━━━━━━━━━━━━━━━━━━━━━━━━━━┩\n",
       "│<span style=\"color: #008080; text-decoration-color: #008080\">         test_acc          </span>│<span style=\"color: #800080; text-decoration-color: #800080\">    0.7926045060157776     </span>│\n",
       "│<span style=\"color: #008080; text-decoration-color: #008080\">         test_loss         </span>│<span style=\"color: #800080; text-decoration-color: #800080\">    0.9421793818473816     </span>│\n",
       "└───────────────────────────┴───────────────────────────┘\n",
       "</pre>\n"
      ],
      "text/plain": [
       "┏━━━━━━━━━━━━━━━━━━━━━━━━━━━┳━━━━━━━━━━━━━━━━━━━━━━━━━━━┓\n",
       "┃\u001b[1m \u001b[0m\u001b[1m       Test metric       \u001b[0m\u001b[1m \u001b[0m┃\u001b[1m \u001b[0m\u001b[1m      DataLoader 0       \u001b[0m\u001b[1m \u001b[0m┃\n",
       "┡━━━━━━━━━━━━━━━━━━━━━━━━━━━╇━━━━━━━━━━━━━━━━━━━━━━━━━━━┩\n",
       "│\u001b[36m \u001b[0m\u001b[36m        test_acc         \u001b[0m\u001b[36m \u001b[0m│\u001b[35m \u001b[0m\u001b[35m   0.7926045060157776    \u001b[0m\u001b[35m \u001b[0m│\n",
       "│\u001b[36m \u001b[0m\u001b[36m        test_loss        \u001b[0m\u001b[36m \u001b[0m│\u001b[35m \u001b[0m\u001b[35m   0.9421793818473816    \u001b[0m\u001b[35m \u001b[0m│\n",
       "└───────────────────────────┴───────────────────────────┘\n"
      ]
     },
     "metadata": {},
     "output_type": "display_data"
    },
    {
     "data": {
      "text/plain": [
       "[{'test_loss': 0.9421793818473816, 'test_acc': 0.7926045060157776}]"
      ]
     },
     "execution_count": 18,
     "metadata": {},
     "output_type": "execute_result"
    }
   ],
   "source": [
    "# model = LitModel(3, dm.num_classes)\n",
    "\n",
    "\n",
    "# # Initialize wandb logger\n",
    "# wandb_logger = WandbLogger(project='wandb-lightning', job_type='train')\n",
    "\n",
    "# # Initialize a trainer\n",
    "# trainer = pl.Trainer(max_epochs=3,\n",
    "#                      logger=wandb_logger,\n",
    "#                      callbacks=[early_stop_callback, ImagePredictionLogger(val_samples),checkpoint_callback])\n",
    "\n",
    "# # # # Lúc huấn luyện thì tắt note 3 dòng bên dưới\n",
    "# # # # Train the model ⚡🚅⚡\n",
    "# trainer.fit(model, dm)\n",
    "\n",
    "\n",
    "# # # # Evaluate the model on the held-out test set ⚡⚡\n",
    "\n",
    "# trainer.test(dataloaders=dm.test_dataloader()),\n",
    "# # # # Close wandb run\n",
    "# wandb.finish()\n",
    "model = LitModel(3, dm.num_classes)\n",
    "\n",
    "# Initialize a trainer\n",
    "trainer = pl.Trainer(max_epochs=10, callbacks=[early_stop_callback, checkpoint_callback])\n",
    "\n",
    "# Train the model\n",
    "trainer.fit(model, dm)\n",
    "\n",
    "# Evaluate the model on the held-out test set\n",
    "trainer.test(dataloaders=dm.test_dataloader())\n"
   ]
  },
  {
   "cell_type": "code",
   "execution_count": 16,
   "id": "5c00655b",
   "metadata": {},
   "outputs": [
    {
     "data": {
      "text/plain": [
       "LitModel(\n",
       "  (model_pretrain): ResNet(\n",
       "    (conv1): Conv2d(3, 64, kernel_size=(7, 7), stride=(2, 2), padding=(3, 3), bias=False)\n",
       "    (bn1): BatchNorm2d(64, eps=1e-05, momentum=0.1, affine=True, track_running_stats=True)\n",
       "    (relu): ReLU(inplace=True)\n",
       "    (maxpool): MaxPool2d(kernel_size=3, stride=2, padding=1, dilation=1, ceil_mode=False)\n",
       "    (layer1): Sequential(\n",
       "      (0): BasicBlock(\n",
       "        (conv1): Conv2d(64, 64, kernel_size=(3, 3), stride=(1, 1), padding=(1, 1), bias=False)\n",
       "        (bn1): BatchNorm2d(64, eps=1e-05, momentum=0.1, affine=True, track_running_stats=True)\n",
       "        (relu): ReLU(inplace=True)\n",
       "        (conv2): Conv2d(64, 64, kernel_size=(3, 3), stride=(1, 1), padding=(1, 1), bias=False)\n",
       "        (bn2): BatchNorm2d(64, eps=1e-05, momentum=0.1, affine=True, track_running_stats=True)\n",
       "      )\n",
       "      (1): BasicBlock(\n",
       "        (conv1): Conv2d(64, 64, kernel_size=(3, 3), stride=(1, 1), padding=(1, 1), bias=False)\n",
       "        (bn1): BatchNorm2d(64, eps=1e-05, momentum=0.1, affine=True, track_running_stats=True)\n",
       "        (relu): ReLU(inplace=True)\n",
       "        (conv2): Conv2d(64, 64, kernel_size=(3, 3), stride=(1, 1), padding=(1, 1), bias=False)\n",
       "        (bn2): BatchNorm2d(64, eps=1e-05, momentum=0.1, affine=True, track_running_stats=True)\n",
       "      )\n",
       "      (2): BasicBlock(\n",
       "        (conv1): Conv2d(64, 64, kernel_size=(3, 3), stride=(1, 1), padding=(1, 1), bias=False)\n",
       "        (bn1): BatchNorm2d(64, eps=1e-05, momentum=0.1, affine=True, track_running_stats=True)\n",
       "        (relu): ReLU(inplace=True)\n",
       "        (conv2): Conv2d(64, 64, kernel_size=(3, 3), stride=(1, 1), padding=(1, 1), bias=False)\n",
       "        (bn2): BatchNorm2d(64, eps=1e-05, momentum=0.1, affine=True, track_running_stats=True)\n",
       "      )\n",
       "    )\n",
       "    (layer2): Sequential(\n",
       "      (0): BasicBlock(\n",
       "        (conv1): Conv2d(64, 128, kernel_size=(3, 3), stride=(2, 2), padding=(1, 1), bias=False)\n",
       "        (bn1): BatchNorm2d(128, eps=1e-05, momentum=0.1, affine=True, track_running_stats=True)\n",
       "        (relu): ReLU(inplace=True)\n",
       "        (conv2): Conv2d(128, 128, kernel_size=(3, 3), stride=(1, 1), padding=(1, 1), bias=False)\n",
       "        (bn2): BatchNorm2d(128, eps=1e-05, momentum=0.1, affine=True, track_running_stats=True)\n",
       "        (downsample): Sequential(\n",
       "          (0): Conv2d(64, 128, kernel_size=(1, 1), stride=(2, 2), bias=False)\n",
       "          (1): BatchNorm2d(128, eps=1e-05, momentum=0.1, affine=True, track_running_stats=True)\n",
       "        )\n",
       "      )\n",
       "      (1): BasicBlock(\n",
       "        (conv1): Conv2d(128, 128, kernel_size=(3, 3), stride=(1, 1), padding=(1, 1), bias=False)\n",
       "        (bn1): BatchNorm2d(128, eps=1e-05, momentum=0.1, affine=True, track_running_stats=True)\n",
       "        (relu): ReLU(inplace=True)\n",
       "        (conv2): Conv2d(128, 128, kernel_size=(3, 3), stride=(1, 1), padding=(1, 1), bias=False)\n",
       "        (bn2): BatchNorm2d(128, eps=1e-05, momentum=0.1, affine=True, track_running_stats=True)\n",
       "      )\n",
       "      (2): BasicBlock(\n",
       "        (conv1): Conv2d(128, 128, kernel_size=(3, 3), stride=(1, 1), padding=(1, 1), bias=False)\n",
       "        (bn1): BatchNorm2d(128, eps=1e-05, momentum=0.1, affine=True, track_running_stats=True)\n",
       "        (relu): ReLU(inplace=True)\n",
       "        (conv2): Conv2d(128, 128, kernel_size=(3, 3), stride=(1, 1), padding=(1, 1), bias=False)\n",
       "        (bn2): BatchNorm2d(128, eps=1e-05, momentum=0.1, affine=True, track_running_stats=True)\n",
       "      )\n",
       "      (3): BasicBlock(\n",
       "        (conv1): Conv2d(128, 128, kernel_size=(3, 3), stride=(1, 1), padding=(1, 1), bias=False)\n",
       "        (bn1): BatchNorm2d(128, eps=1e-05, momentum=0.1, affine=True, track_running_stats=True)\n",
       "        (relu): ReLU(inplace=True)\n",
       "        (conv2): Conv2d(128, 128, kernel_size=(3, 3), stride=(1, 1), padding=(1, 1), bias=False)\n",
       "        (bn2): BatchNorm2d(128, eps=1e-05, momentum=0.1, affine=True, track_running_stats=True)\n",
       "      )\n",
       "    )\n",
       "    (layer3): Sequential(\n",
       "      (0): BasicBlock(\n",
       "        (conv1): Conv2d(128, 256, kernel_size=(3, 3), stride=(2, 2), padding=(1, 1), bias=False)\n",
       "        (bn1): BatchNorm2d(256, eps=1e-05, momentum=0.1, affine=True, track_running_stats=True)\n",
       "        (relu): ReLU(inplace=True)\n",
       "        (conv2): Conv2d(256, 256, kernel_size=(3, 3), stride=(1, 1), padding=(1, 1), bias=False)\n",
       "        (bn2): BatchNorm2d(256, eps=1e-05, momentum=0.1, affine=True, track_running_stats=True)\n",
       "        (downsample): Sequential(\n",
       "          (0): Conv2d(128, 256, kernel_size=(1, 1), stride=(2, 2), bias=False)\n",
       "          (1): BatchNorm2d(256, eps=1e-05, momentum=0.1, affine=True, track_running_stats=True)\n",
       "        )\n",
       "      )\n",
       "      (1): BasicBlock(\n",
       "        (conv1): Conv2d(256, 256, kernel_size=(3, 3), stride=(1, 1), padding=(1, 1), bias=False)\n",
       "        (bn1): BatchNorm2d(256, eps=1e-05, momentum=0.1, affine=True, track_running_stats=True)\n",
       "        (relu): ReLU(inplace=True)\n",
       "        (conv2): Conv2d(256, 256, kernel_size=(3, 3), stride=(1, 1), padding=(1, 1), bias=False)\n",
       "        (bn2): BatchNorm2d(256, eps=1e-05, momentum=0.1, affine=True, track_running_stats=True)\n",
       "      )\n",
       "      (2): BasicBlock(\n",
       "        (conv1): Conv2d(256, 256, kernel_size=(3, 3), stride=(1, 1), padding=(1, 1), bias=False)\n",
       "        (bn1): BatchNorm2d(256, eps=1e-05, momentum=0.1, affine=True, track_running_stats=True)\n",
       "        (relu): ReLU(inplace=True)\n",
       "        (conv2): Conv2d(256, 256, kernel_size=(3, 3), stride=(1, 1), padding=(1, 1), bias=False)\n",
       "        (bn2): BatchNorm2d(256, eps=1e-05, momentum=0.1, affine=True, track_running_stats=True)\n",
       "      )\n",
       "      (3): BasicBlock(\n",
       "        (conv1): Conv2d(256, 256, kernel_size=(3, 3), stride=(1, 1), padding=(1, 1), bias=False)\n",
       "        (bn1): BatchNorm2d(256, eps=1e-05, momentum=0.1, affine=True, track_running_stats=True)\n",
       "        (relu): ReLU(inplace=True)\n",
       "        (conv2): Conv2d(256, 256, kernel_size=(3, 3), stride=(1, 1), padding=(1, 1), bias=False)\n",
       "        (bn2): BatchNorm2d(256, eps=1e-05, momentum=0.1, affine=True, track_running_stats=True)\n",
       "      )\n",
       "      (4): BasicBlock(\n",
       "        (conv1): Conv2d(256, 256, kernel_size=(3, 3), stride=(1, 1), padding=(1, 1), bias=False)\n",
       "        (bn1): BatchNorm2d(256, eps=1e-05, momentum=0.1, affine=True, track_running_stats=True)\n",
       "        (relu): ReLU(inplace=True)\n",
       "        (conv2): Conv2d(256, 256, kernel_size=(3, 3), stride=(1, 1), padding=(1, 1), bias=False)\n",
       "        (bn2): BatchNorm2d(256, eps=1e-05, momentum=0.1, affine=True, track_running_stats=True)\n",
       "      )\n",
       "      (5): BasicBlock(\n",
       "        (conv1): Conv2d(256, 256, kernel_size=(3, 3), stride=(1, 1), padding=(1, 1), bias=False)\n",
       "        (bn1): BatchNorm2d(256, eps=1e-05, momentum=0.1, affine=True, track_running_stats=True)\n",
       "        (relu): ReLU(inplace=True)\n",
       "        (conv2): Conv2d(256, 256, kernel_size=(3, 3), stride=(1, 1), padding=(1, 1), bias=False)\n",
       "        (bn2): BatchNorm2d(256, eps=1e-05, momentum=0.1, affine=True, track_running_stats=True)\n",
       "      )\n",
       "    )\n",
       "    (layer4): Sequential(\n",
       "      (0): BasicBlock(\n",
       "        (conv1): Conv2d(256, 512, kernel_size=(3, 3), stride=(2, 2), padding=(1, 1), bias=False)\n",
       "        (bn1): BatchNorm2d(512, eps=1e-05, momentum=0.1, affine=True, track_running_stats=True)\n",
       "        (relu): ReLU(inplace=True)\n",
       "        (conv2): Conv2d(512, 512, kernel_size=(3, 3), stride=(1, 1), padding=(1, 1), bias=False)\n",
       "        (bn2): BatchNorm2d(512, eps=1e-05, momentum=0.1, affine=True, track_running_stats=True)\n",
       "        (downsample): Sequential(\n",
       "          (0): Conv2d(256, 512, kernel_size=(1, 1), stride=(2, 2), bias=False)\n",
       "          (1): BatchNorm2d(512, eps=1e-05, momentum=0.1, affine=True, track_running_stats=True)\n",
       "        )\n",
       "      )\n",
       "      (1): BasicBlock(\n",
       "        (conv1): Conv2d(512, 512, kernel_size=(3, 3), stride=(1, 1), padding=(1, 1), bias=False)\n",
       "        (bn1): BatchNorm2d(512, eps=1e-05, momentum=0.1, affine=True, track_running_stats=True)\n",
       "        (relu): ReLU(inplace=True)\n",
       "        (conv2): Conv2d(512, 512, kernel_size=(3, 3), stride=(1, 1), padding=(1, 1), bias=False)\n",
       "        (bn2): BatchNorm2d(512, eps=1e-05, momentum=0.1, affine=True, track_running_stats=True)\n",
       "      )\n",
       "      (2): BasicBlock(\n",
       "        (conv1): Conv2d(512, 512, kernel_size=(3, 3), stride=(1, 1), padding=(1, 1), bias=False)\n",
       "        (bn1): BatchNorm2d(512, eps=1e-05, momentum=0.1, affine=True, track_running_stats=True)\n",
       "        (relu): ReLU(inplace=True)\n",
       "        (conv2): Conv2d(512, 512, kernel_size=(3, 3), stride=(1, 1), padding=(1, 1), bias=False)\n",
       "        (bn2): BatchNorm2d(512, eps=1e-05, momentum=0.1, affine=True, track_running_stats=True)\n",
       "      )\n",
       "    )\n",
       "    (avgpool): AdaptiveAvgPool2d(output_size=(1, 1))\n",
       "    (fc): Linear(in_features=512, out_features=4, bias=True)\n",
       "  )\n",
       "  (accuracy): MulticlassAccuracy()\n",
       ")"
      ]
     },
     "execution_count": 16,
     "metadata": {},
     "output_type": "execute_result"
    }
   ],
   "source": [
    "bestmodel=LitModel.load_from_checkpoint(\"G:\\DeepLearning\\Model\\model\\epoch=2-step=1626.ckpt\")\n",
    "bestmodel.eval()"
   ]
  },
  {
   "cell_type": "code",
   "execution_count": 20,
   "id": "7e5deb82",
   "metadata": {},
   "outputs": [],
   "source": [
    "transform = transforms.Compose([\n",
    "            transforms.Resize((256,256)),\n",
    "\n",
    "            transforms.ToTensor(),\n",
    "            transforms.Normalize(mean=[0.485, 0.456, 0.406] ,std=[0.229, 0.224, 0.225])\n",
    "        ])"
   ]
  },
  {
   "cell_type": "code",
   "execution_count": 21,
   "id": "978c71f7",
   "metadata": {},
   "outputs": [
    {
     "data": {
      "image/png": "[encoded data removed]",
      "text/plain": [
       "<PIL.JpegImagePlugin.JpegImageFile image mode=RGB size=256x256>"
      ]
     },
     "execution_count": 21,
     "metadata": {},
     "output_type": "execute_result"
    }
   ],
   "source": [
    "from PIL import Image\n",
    "# img = Image.open(r\"G:\\BrainTumor\\Dataset\\test\\glioma_tumor\\G_9.jpg\")\n",
    "img = Image.open(r\"G:\\DeepLearning\\Model\\Dataset\\test\\normal\\N_4.jpg\")\n",
    "# img = Image.open(r\"G:\\DeepLearning\\Model\\Dataset\\test\\meningioma_tumor\\M_15.jpg\")\n",
    "img"
   ]
  },
  {
   "cell_type": "code",
   "execution_count": 23,
   "id": "c3442c32",
   "metadata": {},
   "outputs": [
    {
     "name": "stdout",
     "output_type": "stream",
     "text": [
      "torch.Size([1, 3, 256, 256])\n"
     ]
    }
   ],
   "source": [
    "import torch\n",
    "\n",
    "# Kiểm tra xem CUDA có sẵn hay không\n",
    "device = torch.device(\"cuda\" if torch.cuda.is_available() else \"cpu\")\n",
    "\n",
    "# Chuyển đổi dữ liệu vào thiết bị tính toán (CPU hoặc CUDA)\n",
    "inputdata = transform(img).to(device)\n",
    "\n",
    "# Thêm một chiều mới và chuyển đổi tensor sang GPU (nếu có sẵn)\n",
    "inputdata = inputdata.unsqueeze(0).to(device)\n",
    "\n",
    "# In ra kích thước của tensor\n",
    "print(inputdata.shape)\n"
   ]
  },
  {
   "cell_type": "code",
   "execution_count": 24,
   "id": "354b95a5",
   "metadata": {},
   "outputs": [],
   "source": [
    "logits=bestmodel(inputdata)\n",
    "preds = torch.argmax(logits, -1)\n"
   ]
  },
  {
   "cell_type": "code",
   "execution_count": 25,
   "id": "fb58e8f3",
   "metadata": {},
   "outputs": [],
   "source": [
    "classname={0:\"glioma_tumor\", 1:\"meningioma_tumor\", 2:\"normal_tumor\", 3:\"pituitary_tumor\"}\n"
   ]
  },
  {
   "cell_type": "code",
   "execution_count": 26,
   "id": "ee680f5c",
   "metadata": {},
   "outputs": [
    {
     "data": {
      "text/plain": [
       "'normal_tumor'"
      ]
     },
     "execution_count": 26,
     "metadata": {},
     "output_type": "execute_result"
    }
   ],
   "source": [
    "classname[int(preds.cpu().numpy())]"
   ]
  },
  {
   "cell_type": "code",
   "execution_count": 27,
   "id": "900281e1",
   "metadata": {},
   "outputs": [
    {
     "name": "stderr",
     "output_type": "stream",
     "text": [
      "C:\\Users\\nguye\\AppData\\Local\\Temp\\ipykernel_19300\\2764459341.py:36: DeprecationWarning: ANTIALIAS is deprecated and will be removed in Pillow 10 (2023-07-01). Use LANCZOS or Resampling.LANCZOS instead.\n",
      "  self.default_image = self.default_image.resize((250, 250), Image.ANTIALIAS)\n",
      "C:\\Users\\nguye\\AppData\\Local\\Temp\\ipykernel_19300\\2764459341.py:72: DeprecationWarning: ANTIALIAS is deprecated and will be removed in Pillow 10 (2023-07-01). Use LANCZOS or Resampling.LANCZOS instead.\n",
      "  img = img.resize((250, 250), Image.ANTIALIAS)\n"
     ]
    }
   ],
   "source": [
    "import tkinter as tk\n",
    "from tkinter import filedialog, messagebox\n",
    "from PIL import Image, ImageTk\n",
    "import webbrowser\n",
    "\n",
    "class TumorClassifierApp:\n",
    "    def __init__(self, master):\n",
    "        self.master = master\n",
    "        self.master.title(\"Brain Tumor Classifier\")\n",
    "\n",
    "        self.img_path = None\n",
    "        self.url = \"\"  # Biến để lưu trữ URL của dự đoán\n",
    "\n",
    "        # Thiết lập màu sắc\n",
    "        self.main_color = \"#4CAF50\"\n",
    "        self.hover_color = \"#45a049\"\n",
    "        self.font_color = \"white\"\n",
    "\n",
    "        # Khung chính\n",
    "        self.main_frame = tk.Frame(self.master, bg=\"white\")\n",
    "        self.main_frame.pack(expand=True, fill=\"both\")\n",
    "\n",
    "        # Tiêu đề\n",
    "        self.title_label = tk.Label(self.main_frame, text=\"Brain Tumor Classifier\", font=(\"Helvetica\", 18, \"bold\"), bg=\"white\")\n",
    "        self.title_label.pack(pady=10)\n",
    "\n",
    "        # Nút chọn ảnh\n",
    "        self.choose_btn = tk.Button(self.main_frame, text=\"Choose Image\", command=self.choose_image, bg=self.main_color, fg=self.font_color, font=(\"Helvetica\", 12), padx=10, pady=5)\n",
    "        self.choose_btn.pack(pady=10)\n",
    "        self.choose_btn.bind(\"<Enter>\", lambda event: self.choose_btn.config(bg=self.hover_color))\n",
    "        self.choose_btn.bind(\"<Leave>\", lambda event: self.choose_btn.config(bg=self.main_color))\n",
    "\n",
    "        # Hiển thị ảnh\n",
    "        self.default_image_path = \"G:\\\\DeepLearning\\\\Model\\\\default.png\"  # Đường dẫn đến ảnh mặc định\n",
    "        self.default_image = Image.open(self.default_image_path)\n",
    "        self.default_image = self.default_image.resize((250, 250), Image.ANTIALIAS)\n",
    "        self.default_image = ImageTk.PhotoImage(self.default_image)\n",
    "        self.panel = tk.Label(self.main_frame, image=self.default_image, bg=\"white\")\n",
    "        self.panel.pack(padx=20, pady=10)\n",
    "\n",
    "        # Kết quả dự đoán\n",
    "        self.result_label = tk.Label(self.main_frame, text=\"\", font=(\"Helvetica\", 14), bg=\"white\")\n",
    "        self.result_label.pack(pady=5)\n",
    "\n",
    "        # URL thông tin và điều trị\n",
    "        self.url_label = tk.Label(self.main_frame, text=\"\", font=(\"Helvetica\", 12), fg=\"blue\", cursor=\"hand2\", bg=\"white\")\n",
    "        self.url_label.pack(pady=5)\n",
    "        self.url_label.bind(\"<Button-1>\", self.open_url)\n",
    "\n",
    "        # Nút dự đoán\n",
    "        self.predict_btn = tk.Button(self.main_frame, text=\"Predict\", command=self.predict, bg=self.main_color, fg=self.font_color, font=(\"Helvetica\", 12), padx=10, pady=5)\n",
    "        self.predict_btn.pack(pady=10)\n",
    "        self.predict_btn.bind(\"<Enter>\", lambda event: self.predict_btn.config(bg=self.hover_color))\n",
    "        self.predict_btn.bind(\"<Leave>\", lambda event: self.predict_btn.config(bg=self.main_color))\n",
    "\n",
    "        # Danh sách các URL cho mỗi lớp dự đoán\n",
    "        self.url_list = {\n",
    "            \"glioma_tumor\": \"https://s.net.vn/GEWn\",\n",
    "            \"meningioma_tumor\": \"https://s.net.vn/GUiy\",\n",
    "            \"normal_tumor\": \"https://s.net.vn/lCnh\",\n",
    "            \"pituitary_tumor\": \"https://s.net.vn/jf3k\"\n",
    "        }\n",
    "\n",
    "        # Đặt kích thước cố định cho cửa sổ\n",
    "        self.master.geometry(\"400x550\")\n",
    "\n",
    "    def choose_image(self):\n",
    "        self.img_path = filedialog.askopenfilename()\n",
    "        self.url = \"\"  # Xóa URL khi chọn ảnh mới\n",
    "        if self.img_path:\n",
    "            img = Image.open(self.img_path)\n",
    "            img = img.resize((250, 250), Image.ANTIALIAS)\n",
    "            img = ImageTk.PhotoImage(img)\n",
    "            self.panel.configure(image=img)\n",
    "            self.panel.image = img\n",
    "            self.result_label.config(text=\"\")\n",
    "            self.url_label.config(text=\"\")  # Ẩn URL khi chọn ảnh mới\n",
    "\n",
    "    def predict(self):\n",
    "        if self.img_path:\n",
    "            img = Image.open(self.img_path)\n",
    "            inputdata = transform(img).to(device)\n",
    "            inputdata = inputdata.unsqueeze(0).to(device)\n",
    "            logits = bestmodel(inputdata)\n",
    "            preds = torch.argmax(logits, -1)\n",
    "            predicted_class = classname[int(preds.cpu().numpy())]\n",
    "            self.url = self.url_list.get(predicted_class, \"https://s.net.vn/CjOR\")  # Lưu trữ URL tương ứng với lớp dự đoán\n",
    "            result_text = f\"Disease prediction: {predicted_class}\"\n",
    "            self.result_label.config(text=result_text)\n",
    "            self.url_label.config(text=\"Information and treatment\", fg=\"blue\")\n",
    "        else:\n",
    "            messagebox.showerror(\"Error\", \"Please choose an image first.\")\n",
    "\n",
    "    def open_url(self, event):\n",
    "        if self.url:\n",
    "            webbrowser.open(self.url)\n",
    "\n",
    "def main():\n",
    "    root = tk.Tk()\n",
    "    app = TumorClassifierApp(root)\n",
    "    root.mainloop()\n",
    "\n",
    "if __name__ == \"__main__\":\n",
    "    main()\n"
   ]
  }
 ],
 "metadata": {
  "kernelspec": {
   "display_name": "Python 3",
   "language": "python",
   "name": "python3"
  },
  "language_info": {
   "codemirror_mode": {
    "name": "ipython",
    "version": 3
   },
   "file_extension": ".py",
   "mimetype": "text/x-python",
   "name": "python",
   "nbconvert_exporter": "python",
   "pygments_lexer": "ipython3",
   "version": "3.9.0"
  },
  "papermill": {
   "default_parameters": {},
   "duration": 150.593153,
   "end_time": "2023-10-11T23:18:32.307179",
   "environment_variables": {},
   "exception": null,
   "input_path": "__notebook__.ipynb",
   "output_path": "__notebook__.ipynb",
   "parameters": {},
   "start_time": "2023-10-11T23:16:01.714026",
   "version": "2.4.0"
  }
 },
 "nbformat": 4,
 "nbformat_minor": 5
}
